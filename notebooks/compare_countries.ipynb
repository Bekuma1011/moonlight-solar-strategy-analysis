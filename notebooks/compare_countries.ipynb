{
 "cells": [
  {
   "cell_type": "code",
   "execution_count": 1,
   "id": "530288c4",
   "metadata": {},
   "outputs": [
    {
     "name": "stdout",
     "output_type": "stream",
     "text": [
      "Added project root to Python path\n"
     ]
    }
   ],
   "source": [
    "# notebooks/compare_countries.ipynb\n",
    "from notebook_helpers import add_project_root_to_path\n",
    "from src.solar_data_analysis import DataAnalysis"
   ]
  },
  {
   "cell_type": "markdown",
   "id": "246c4bf7",
   "metadata": {},
   "source": [
    "## 1 Metric Comparison"
   ]
  },
  {
   "cell_type": "code",
   "execution_count": null,
   "id": "e027fca2",
   "metadata": {},
   "outputs": [],
   "source": [
    "# Create a DataAnalysis instances for benin,togo and sierraleone \n",
    "benin = DataAnalysis(r\"C:\\Users\\bekuman\\Downloads\\data\\benin_clean.csv\")\n",
    "sierraleone = DataAnalysis(r\"C:\\Users\\bekuman\\Downloads\\data\\sierraaleone_clean.csv\")\n",
    "togo = DataAnalysis(r\"C:\\Users\\bekuman\\Downloads\\data\\togo_clean.csv\")"
   ]
  },
  {
   "cell_type": "code",
   "execution_count": null,
   "id": "3996978c",
   "metadata": {},
   "outputs": [],
   "source": []
  }
 ],
 "metadata": {
  "kernelspec": {
   "display_name": "venv",
   "language": "python",
   "name": "python3"
  },
  "language_info": {
   "codemirror_mode": {
    "name": "ipython",
    "version": 3
   },
   "file_extension": ".py",
   "mimetype": "text/x-python",
   "name": "python",
   "nbconvert_exporter": "python",
   "pygments_lexer": "ipython3",
   "version": "3.13.3"
  }
 },
 "nbformat": 4,
 "nbformat_minor": 5
}
